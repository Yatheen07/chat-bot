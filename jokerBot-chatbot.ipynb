{
 "cells": [
  {
   "cell_type": "code",
   "execution_count": null,
   "metadata": {},
   "outputs": [],
   "source": [
    "#import necessary packages\n",
    "import os\n",
    "os.environ[\"GOOGLE_APPLICATION_CREDENTIALS\"] = r\"E:/Service-account-key/JokerBot.json\""
   ]
  },
  {
   "cell_type": "code",
   "execution_count": null,
   "metadata": {},
   "outputs": [],
   "source": [
    "#import dialogflow\n",
    "import dialogflow_v2 as df\n",
    "session_client = df.SessionsClient() #client_object\n",
    "session = session_client.session_path(\"jokes-ff1ab\",\"3123123\") #session object"
   ]
  },
  {
   "cell_type": "code",
   "execution_count": null,
   "metadata": {
    "scrolled": false
   },
   "outputs": [],
   "source": [
    "while True:\n",
    "    print(\"=\" * 40)\n",
    "    inputText = input(\"User: \")\n",
    "    if(inputText == \"stop\" or inputText ==\"break\"): #terminating condition\n",
    "        break\n",
    "    text_input = df.types.TextInput(text = inputText,language_code = \"en\") #prepare text input\n",
    "    query_input = df.types.QueryInput(text = text_input)\n",
    "    response = session_client.detect_intent(session=session, query_input=query_input)#prepare query text\n",
    "    \n",
    "    intent_name = response.query_result.intent.display_name #identify the intent\n",
    "    \n",
    "    if(intent_name == \"info.basic\"): #handle basic intent to modify response json\n",
    "        response_text = response.query_result.fulfillment_text\n",
    "    else:\n",
    "        try:\n",
    "            response_text = response.query_result.fulfillment_messages[0].simple_responses.simple_responses[0].text_to_speech\n",
    "        except:\n",
    "            response_text = \"Am not sure about that!\"\n",
    "    print('Response: {} \\n'.format(response_text))"
   ]
  },
  {
   "cell_type": "code",
   "execution_count": null,
   "metadata": {},
   "outputs": [],
   "source": []
  }
 ],
 "metadata": {
  "kernelspec": {
   "display_name": "Python 3",
   "language": "python",
   "name": "python3"
  },
  "language_info": {
   "codemirror_mode": {
    "name": "ipython",
    "version": 3
   },
   "file_extension": ".py",
   "mimetype": "text/x-python",
   "name": "python",
   "nbconvert_exporter": "python",
   "pygments_lexer": "ipython3",
   "version": "3.6.5"
  }
 },
 "nbformat": 4,
 "nbformat_minor": 2
}
